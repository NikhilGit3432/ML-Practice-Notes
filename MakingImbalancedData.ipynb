{
 "cells": [
  {
   "cell_type": "markdown",
   "id": "2faf822d-c131-4806-9d07-e66e52ec4167",
   "metadata": {},
   "source": [
    "# Practicing making of an Imbalanced Dataset "
   ]
  },
  {
   "cell_type": "markdown",
   "id": "3cc5af9f-8eb1-4835-9791-58fef8161cb9",
   "metadata": {},
   "source": [
    "## 1st Step : Importing the Required Libraries \n"
   ]
  },
  {
   "cell_type": "code",
   "execution_count": 3,
   "id": "d8be5189-9832-48c8-8c3b-8911835d81e8",
   "metadata": {},
   "outputs": [],
   "source": [
    "import numpy as np\n",
    "import pandas as pd"
   ]
  },
  {
   "cell_type": "markdown",
   "id": "1738bae6-4c0e-4bf5-8995-84cceee768dc",
   "metadata": {},
   "source": [
    "## 2nd Step : Set paramenters for the data "
   ]
  },
  {
   "cell_type": "code",
   "execution_count": 5,
   "id": "36f85512-bbdd-4a98-a107-e1fcb3b66b52",
   "metadata": {},
   "outputs": [],
   "source": [
    "total_samples = 1000 # We will have 1000 number of samples for the data"
   ]
  },
  {
   "cell_type": "code",
   "execution_count": 6,
   "id": "5b8f0f85-58b5-4efc-91bb-818d6d51d63d",
   "metadata": {},
   "outputs": [],
   "source": [
    "class_0_ratio = 0.9 # Class 0 of the generated data will have 90% Quantity of the whole data\n",
    "class_1_ratio = 0.1 # Class 1 of the generated data will have 10% Quantity of the whole data "
   ]
  },
  {
   "cell_type": "code",
   "execution_count": 7,
   "id": "2662e925-c318-4d78-aab6-fd647d40b836",
   "metadata": {},
   "outputs": [],
   "source": [
    "num_class_0 = int(total_samples * class_0_ratio) # So the number of samples of class 0 will be 900 when 90% of 1000 number of samples \n",
    "num_class_1 = int(total_samples * class_1_ratio) # So the number of samples of class 1 will be 100 when 10% of 1000 nuumber of samples "
   ]
  },
  {
   "cell_type": "markdown",
   "id": "a42fe32f-f1fb-4914-966f-82f64d05ee53",
   "metadata": {},
   "source": [
    "## 3rd Step : Generate the Features "
   ]
  },
  {
   "cell_type": "code",
   "execution_count": 9,
   "id": "8c09bebb-e3f0-4001-b58f-39a005fbf0ca",
   "metadata": {},
   "outputs": [
    {
     "data": {
      "text/plain": [
       "array([[ 0.77997943,  1.31570706],\n",
       "       [-1.47058803, -0.63364255],\n",
       "       [ 1.04271173, -0.86553183],\n",
       "       ...,\n",
       "       [-0.31233713,  0.95302722],\n",
       "       [ 0.88118764,  0.31921221],\n",
       "       [ 0.30412677,  1.11745959]])"
      ]
     },
     "execution_count": 9,
     "metadata": {},
     "output_type": "execute_result"
    }
   ],
   "source": [
    "X_class_0 = np.random.randn(num_class_0,2)\n",
    "X_class_0\n",
    "\n",
    "# there are two arguments in the function call np.random.randn(num_class_0, 2):\n",
    "\n",
    "# num_class_0:\n",
    "\n",
    "# This is the number of rows, or samples, to generate. It represents how many data points (each with 2 values) you want in X_class_0.\n",
    "# num_class_0 should be an integer, and it specifies the total number of data points.\n",
    "# 2:\n",
    "\n",
    "# This is the number of columns for each sample, so each row will have exactly 2 values.\n",
    "# This argument makes each sample a 2-dimensional vector (or data point with 2 features).\n",
    "# Together, these arguments specify the shape of the output array, which will have num_class_0 rows and 2 columns."
   ]
  },
  {
   "cell_type": "code",
   "execution_count": 10,
   "id": "4323c65f-1dc5-40a9-85bd-5b5119b1cfef",
   "metadata": {},
   "outputs": [
    {
     "data": {
      "text/plain": [
       "array([[-1.6903996 , -0.54571887],\n",
       "       [ 0.04530449, -0.30909573],\n",
       "       [-2.15467768,  0.95187184],\n",
       "       [-1.78036705,  0.47766362],\n",
       "       [-0.22351722, -0.0126222 ],\n",
       "       [ 0.86089161,  0.52384148],\n",
       "       [-0.08559861, -0.25081315],\n",
       "       [ 0.22099651,  1.92946569],\n",
       "       [ 0.51006208, -0.10984064],\n",
       "       [-0.28270271,  0.74082319],\n",
       "       [ 2.80175811,  1.27400187],\n",
       "       [-0.05610801,  0.52861924],\n",
       "       [-0.69725997, -0.02947005],\n",
       "       [-0.44236304, -0.79824576],\n",
       "       [ 0.75285374, -0.78075245],\n",
       "       [ 2.1293553 , -1.70991383],\n",
       "       [ 0.53566765,  0.04575329],\n",
       "       [-2.98292999,  0.33086332],\n",
       "       [ 0.6639033 , -1.37091276],\n",
       "       [-2.37419348, -0.99629315],\n",
       "       [ 0.41873777,  0.25374781],\n",
       "       [ 2.15636817, -0.70282232],\n",
       "       [ 1.97857531, -0.68242154],\n",
       "       [ 1.30994679, -0.62713421],\n",
       "       [-2.06552507, -0.37849921],\n",
       "       [ 0.00657432,  0.36390324],\n",
       "       [ 0.37356464,  0.07054377],\n",
       "       [ 0.9050568 ,  0.78369129],\n",
       "       [ 0.33736587, -2.70720977],\n",
       "       [ 1.11907593,  0.00645127],\n",
       "       [ 2.35097529,  0.12526758],\n",
       "       [ 1.30193876,  2.1695799 ],\n",
       "       [-0.76305853, -1.15019904],\n",
       "       [ 1.98743769, -0.35101678],\n",
       "       [-0.69010364, -0.28472581],\n",
       "       [ 0.58077719,  0.97661189],\n",
       "       [-0.46682154, -1.15541683],\n",
       "       [ 0.17562542,  0.4726924 ],\n",
       "       [-1.24127456,  0.55830294],\n",
       "       [-0.30525308,  1.63180921],\n",
       "       [-0.47005761,  0.42712101],\n",
       "       [ 0.17556374, -0.86465297],\n",
       "       [-2.0861222 ,  0.45449002],\n",
       "       [ 2.18767075, -0.07511159],\n",
       "       [ 0.48134193, -0.23254082],\n",
       "       [ 0.46214706,  0.04139569],\n",
       "       [-0.44444649, -0.61125189],\n",
       "       [ 0.07530941, -0.87550094],\n",
       "       [-0.25075113, -0.84197441],\n",
       "       [-1.0202027 , -1.17082811],\n",
       "       [-0.14591836,  0.7030826 ],\n",
       "       [-0.75673871, -0.28923065],\n",
       "       [ 0.44898861, -1.28332831],\n",
       "       [-1.89923307,  0.57247719],\n",
       "       [ 0.96353212,  0.31795606],\n",
       "       [ 0.69948978,  1.31962737],\n",
       "       [ 0.28419121,  0.24593488],\n",
       "       [-1.81531725,  0.15145424],\n",
       "       [-2.81373372,  1.68415378],\n",
       "       [ 0.80167188,  1.13815314],\n",
       "       [ 1.54616544,  1.69604656],\n",
       "       [-2.04245247, -1.27873794],\n",
       "       [-0.57668146,  1.80860714],\n",
       "       [ 1.45095315, -1.46957748],\n",
       "       [-1.10471909,  1.89420654],\n",
       "       [ 0.95379279, -1.35293166],\n",
       "       [ 0.04162487,  0.11768413],\n",
       "       [-0.66530272, -0.38693346],\n",
       "       [-1.29134524, -1.05901651],\n",
       "       [ 1.52944041,  0.62748387],\n",
       "       [ 1.35368183,  0.28712859],\n",
       "       [-1.06252344, -0.74629741],\n",
       "       [-0.55447554, -0.19851799],\n",
       "       [ 0.61488215, -0.12232749],\n",
       "       [-1.27389413, -0.80214368],\n",
       "       [-0.41570128,  0.34224338],\n",
       "       [ 2.17791166,  0.45935402],\n",
       "       [ 0.12313266, -1.30764355],\n",
       "       [ 0.38918929, -0.35121625],\n",
       "       [ 1.14161854, -0.43259704],\n",
       "       [-0.37636853, -0.98766221],\n",
       "       [ 2.46190167, -0.73516065],\n",
       "       [ 0.13199422, -0.56070502],\n",
       "       [-0.70606673, -0.8863962 ],\n",
       "       [ 0.33022973,  1.45981378],\n",
       "       [-0.32873376, -1.12318513],\n",
       "       [-0.21539428,  0.51139717],\n",
       "       [-1.05194147,  0.44981144],\n",
       "       [-0.49981126, -0.47662706],\n",
       "       [ 0.16238627,  1.41827507],\n",
       "       [ 0.50015389, -0.28074847],\n",
       "       [-0.6350217 ,  0.36714361],\n",
       "       [ 1.56242961,  0.24992497],\n",
       "       [-1.01472208, -0.04623294],\n",
       "       [ 0.1336626 , -0.41509998],\n",
       "       [ 0.20731711, -1.01815915],\n",
       "       [ 0.58994812, -0.35504608],\n",
       "       [-0.59540537,  0.44150475],\n",
       "       [-0.53492617, -1.25898013],\n",
       "       [-1.30960051, -1.18314349]])"
      ]
     },
     "execution_count": 10,
     "metadata": {},
     "output_type": "execute_result"
    }
   ],
   "source": [
    "X_class_1 = np.random.randn(num_class_1,2)\n",
    "X_class_1\n",
    "\n",
    "# is similar to the previous example. Here’s what each part does:\n",
    "\n",
    "# X_class_1:\n",
    "\n",
    "# This variable will store the array generated by the code.\n",
    "# np.random.randn(num_class_1, 2):\n",
    "\n",
    "# This function generates random numbers from a standard normal distribution (mean = 0, standard deviation = 1).\n",
    "# The arguments specify the shape of the array:\n",
    "# num_class_1: This is the number of rows, representing the number of samples or data points for X_class_1.\n",
    "# 2: This is the number of columns, meaning each data point in X_class_1 will have 2 features (making each row a 2-dimensional vector)."
   ]
  },
  {
   "cell_type": "markdown",
   "id": "6beed7a2-ec9e-471a-85d9-fea6ef13dbbc",
   "metadata": {},
   "source": [
    "## 4th Generate lables "
   ]
  },
  {
   "cell_type": "code",
   "execution_count": 15,
   "id": "fd014726-7b4e-4944-989e-78c75b935233",
   "metadata": {},
   "outputs": [
    {
     "data": {
      "text/plain": [
       "array([0., 0., 0., 0., 0., 0., 0., 0., 0., 0., 0., 0., 0., 0., 0., 0., 0.,\n",
       "       0., 0., 0., 0., 0., 0., 0., 0., 0., 0., 0., 0., 0., 0., 0., 0., 0.,\n",
       "       0., 0., 0., 0., 0., 0., 0., 0., 0., 0., 0., 0., 0., 0., 0., 0., 0.,\n",
       "       0., 0., 0., 0., 0., 0., 0., 0., 0., 0., 0., 0., 0., 0., 0., 0., 0.,\n",
       "       0., 0., 0., 0., 0., 0., 0., 0., 0., 0., 0., 0., 0., 0., 0., 0., 0.,\n",
       "       0., 0., 0., 0., 0., 0., 0., 0., 0., 0., 0., 0., 0., 0., 0., 0., 0.,\n",
       "       0., 0., 0., 0., 0., 0., 0., 0., 0., 0., 0., 0., 0., 0., 0., 0., 0.,\n",
       "       0., 0., 0., 0., 0., 0., 0., 0., 0., 0., 0., 0., 0., 0., 0., 0., 0.,\n",
       "       0., 0., 0., 0., 0., 0., 0., 0., 0., 0., 0., 0., 0., 0., 0., 0., 0.,\n",
       "       0., 0., 0., 0., 0., 0., 0., 0., 0., 0., 0., 0., 0., 0., 0., 0., 0.,\n",
       "       0., 0., 0., 0., 0., 0., 0., 0., 0., 0., 0., 0., 0., 0., 0., 0., 0.,\n",
       "       0., 0., 0., 0., 0., 0., 0., 0., 0., 0., 0., 0., 0., 0., 0., 0., 0.,\n",
       "       0., 0., 0., 0., 0., 0., 0., 0., 0., 0., 0., 0., 0., 0., 0., 0., 0.,\n",
       "       0., 0., 0., 0., 0., 0., 0., 0., 0., 0., 0., 0., 0., 0., 0., 0., 0.,\n",
       "       0., 0., 0., 0., 0., 0., 0., 0., 0., 0., 0., 0., 0., 0., 0., 0., 0.,\n",
       "       0., 0., 0., 0., 0., 0., 0., 0., 0., 0., 0., 0., 0., 0., 0., 0., 0.,\n",
       "       0., 0., 0., 0., 0., 0., 0., 0., 0., 0., 0., 0., 0., 0., 0., 0., 0.,\n",
       "       0., 0., 0., 0., 0., 0., 0., 0., 0., 0., 0., 0., 0., 0., 0., 0., 0.,\n",
       "       0., 0., 0., 0., 0., 0., 0., 0., 0., 0., 0., 0., 0., 0., 0., 0., 0.,\n",
       "       0., 0., 0., 0., 0., 0., 0., 0., 0., 0., 0., 0., 0., 0., 0., 0., 0.,\n",
       "       0., 0., 0., 0., 0., 0., 0., 0., 0., 0., 0., 0., 0., 0., 0., 0., 0.,\n",
       "       0., 0., 0., 0., 0., 0., 0., 0., 0., 0., 0., 0., 0., 0., 0., 0., 0.,\n",
       "       0., 0., 0., 0., 0., 0., 0., 0., 0., 0., 0., 0., 0., 0., 0., 0., 0.,\n",
       "       0., 0., 0., 0., 0., 0., 0., 0., 0., 0., 0., 0., 0., 0., 0., 0., 0.,\n",
       "       0., 0., 0., 0., 0., 0., 0., 0., 0., 0., 0., 0., 0., 0., 0., 0., 0.,\n",
       "       0., 0., 0., 0., 0., 0., 0., 0., 0., 0., 0., 0., 0., 0., 0., 0., 0.,\n",
       "       0., 0., 0., 0., 0., 0., 0., 0., 0., 0., 0., 0., 0., 0., 0., 0., 0.,\n",
       "       0., 0., 0., 0., 0., 0., 0., 0., 0., 0., 0., 0., 0., 0., 0., 0., 0.,\n",
       "       0., 0., 0., 0., 0., 0., 0., 0., 0., 0., 0., 0., 0., 0., 0., 0., 0.,\n",
       "       0., 0., 0., 0., 0., 0., 0., 0., 0., 0., 0., 0., 0., 0., 0., 0., 0.,\n",
       "       0., 0., 0., 0., 0., 0., 0., 0., 0., 0., 0., 0., 0., 0., 0., 0., 0.,\n",
       "       0., 0., 0., 0., 0., 0., 0., 0., 0., 0., 0., 0., 0., 0., 0., 0., 0.,\n",
       "       0., 0., 0., 0., 0., 0., 0., 0., 0., 0., 0., 0., 0., 0., 0., 0., 0.,\n",
       "       0., 0., 0., 0., 0., 0., 0., 0., 0., 0., 0., 0., 0., 0., 0., 0., 0.,\n",
       "       0., 0., 0., 0., 0., 0., 0., 0., 0., 0., 0., 0., 0., 0., 0., 0., 0.,\n",
       "       0., 0., 0., 0., 0., 0., 0., 0., 0., 0., 0., 0., 0., 0., 0., 0., 0.,\n",
       "       0., 0., 0., 0., 0., 0., 0., 0., 0., 0., 0., 0., 0., 0., 0., 0., 0.,\n",
       "       0., 0., 0., 0., 0., 0., 0., 0., 0., 0., 0., 0., 0., 0., 0., 0., 0.,\n",
       "       0., 0., 0., 0., 0., 0., 0., 0., 0., 0., 0., 0., 0., 0., 0., 0., 0.,\n",
       "       0., 0., 0., 0., 0., 0., 0., 0., 0., 0., 0., 0., 0., 0., 0., 0., 0.,\n",
       "       0., 0., 0., 0., 0., 0., 0., 0., 0., 0., 0., 0., 0., 0., 0., 0., 0.,\n",
       "       0., 0., 0., 0., 0., 0., 0., 0., 0., 0., 0., 0., 0., 0., 0., 0., 0.,\n",
       "       0., 0., 0., 0., 0., 0., 0., 0., 0., 0., 0., 0., 0., 0., 0., 0., 0.,\n",
       "       0., 0., 0., 0., 0., 0., 0., 0., 0., 0., 0., 0., 0., 0., 0., 0., 0.,\n",
       "       0., 0., 0., 0., 0., 0., 0., 0., 0., 0., 0., 0., 0., 0., 0., 0., 0.,\n",
       "       0., 0., 0., 0., 0., 0., 0., 0., 0., 0., 0., 0., 0., 0., 0., 0., 0.,\n",
       "       0., 0., 0., 0., 0., 0., 0., 0., 0., 0., 0., 0., 0., 0., 0., 0., 0.,\n",
       "       0., 0., 0., 0., 0., 0., 0., 0., 0., 0., 0., 0., 0., 0., 0., 0., 0.,\n",
       "       0., 0., 0., 0., 0., 0., 0., 0., 0., 0., 0., 0., 0., 0., 0., 0., 0.,\n",
       "       0., 0., 0., 0., 0., 0., 0., 0., 0., 0., 0., 0., 0., 0., 0., 0., 0.,\n",
       "       0., 0., 0., 0., 0., 0., 0., 0., 0., 0., 0., 0., 0., 0., 0., 0., 0.,\n",
       "       0., 0., 0., 0., 0., 0., 0., 0., 0., 0., 0., 0., 0., 0., 0., 0., 0.,\n",
       "       0., 0., 0., 0., 0., 0., 0., 0., 0., 0., 0., 0., 0., 0., 0., 0.])"
      ]
     },
     "execution_count": 15,
     "metadata": {},
     "output_type": "execute_result"
    }
   ],
   "source": [
    "# Lables for majority Class 0\n",
    "y_class_0 = np.zeros(num_class_0)\n",
    "y_class_0"
   ]
  },
  {
   "cell_type": "code",
   "execution_count": 20,
   "id": "cf7c7930-5317-443d-8066-d9659046ffaf",
   "metadata": {},
   "outputs": [
    {
     "data": {
      "text/plain": [
       "array([1., 1., 1., 1., 1., 1., 1., 1., 1., 1., 1., 1., 1., 1., 1., 1., 1.,\n",
       "       1., 1., 1., 1., 1., 1., 1., 1., 1., 1., 1., 1., 1., 1., 1., 1., 1.,\n",
       "       1., 1., 1., 1., 1., 1., 1., 1., 1., 1., 1., 1., 1., 1., 1., 1., 1.,\n",
       "       1., 1., 1., 1., 1., 1., 1., 1., 1., 1., 1., 1., 1., 1., 1., 1., 1.,\n",
       "       1., 1., 1., 1., 1., 1., 1., 1., 1., 1., 1., 1., 1., 1., 1., 1., 1.,\n",
       "       1., 1., 1., 1., 1., 1., 1., 1., 1., 1., 1., 1., 1., 1., 1.])"
      ]
     },
     "execution_count": 20,
     "metadata": {},
     "output_type": "execute_result"
    }
   ],
   "source": [
    "# Labbles for minority class 1\n",
    "y_class_1 = np.ones(num_class_1)\n",
    "y_class_1"
   ]
  },
  {
   "cell_type": "markdown",
   "id": "aa34cf1b-7874-4c73-a156-cf6ef96a3fd4",
   "metadata": {},
   "source": [
    "## 5 Now Lets Concatenate the Features \n"
   ]
  },
  {
   "cell_type": "code",
   "execution_count": 26,
   "id": "25d11bc1-93a3-4368-9f91-d1c35a949414",
   "metadata": {},
   "outputs": [
    {
     "data": {
      "text/plain": [
       "array([[ 0.77997943,  1.31570706],\n",
       "       [-1.47058803, -0.63364255],\n",
       "       [ 1.04271173, -0.86553183],\n",
       "       ...,\n",
       "       [-0.59540537,  0.44150475],\n",
       "       [-0.53492617, -1.25898013],\n",
       "       [-1.30960051, -1.18314349]])"
      ]
     },
     "execution_count": 26,
     "metadata": {},
     "output_type": "execute_result"
    }
   ],
   "source": [
    "# Concatenating the Features i.e., X  data \n",
    "X = np.concat((X_class_0,X_class_1),axis = 0)\n",
    "X"
   ]
  },
  {
   "cell_type": "code",
   "execution_count": 30,
   "id": "61f270b7-8971-4e68-9b8e-ae909b82cf4b",
   "metadata": {},
   "outputs": [
    {
     "data": {
      "text/plain": [
       "array([0., 0., 0., 0., 0., 0., 0., 0., 0., 0., 0., 0., 0., 0., 0., 0., 0.,\n",
       "       0., 0., 0., 0., 0., 0., 0., 0., 0., 0., 0., 0., 0., 0., 0., 0., 0.,\n",
       "       0., 0., 0., 0., 0., 0., 0., 0., 0., 0., 0., 0., 0., 0., 0., 0., 0.,\n",
       "       0., 0., 0., 0., 0., 0., 0., 0., 0., 0., 0., 0., 0., 0., 0., 0., 0.,\n",
       "       0., 0., 0., 0., 0., 0., 0., 0., 0., 0., 0., 0., 0., 0., 0., 0., 0.,\n",
       "       0., 0., 0., 0., 0., 0., 0., 0., 0., 0., 0., 0., 0., 0., 0., 0., 0.,\n",
       "       0., 0., 0., 0., 0., 0., 0., 0., 0., 0., 0., 0., 0., 0., 0., 0., 0.,\n",
       "       0., 0., 0., 0., 0., 0., 0., 0., 0., 0., 0., 0., 0., 0., 0., 0., 0.,\n",
       "       0., 0., 0., 0., 0., 0., 0., 0., 0., 0., 0., 0., 0., 0., 0., 0., 0.,\n",
       "       0., 0., 0., 0., 0., 0., 0., 0., 0., 0., 0., 0., 0., 0., 0., 0., 0.,\n",
       "       0., 0., 0., 0., 0., 0., 0., 0., 0., 0., 0., 0., 0., 0., 0., 0., 0.,\n",
       "       0., 0., 0., 0., 0., 0., 0., 0., 0., 0., 0., 0., 0., 0., 0., 0., 0.,\n",
       "       0., 0., 0., 0., 0., 0., 0., 0., 0., 0., 0., 0., 0., 0., 0., 0., 0.,\n",
       "       0., 0., 0., 0., 0., 0., 0., 0., 0., 0., 0., 0., 0., 0., 0., 0., 0.,\n",
       "       0., 0., 0., 0., 0., 0., 0., 0., 0., 0., 0., 0., 0., 0., 0., 0., 0.,\n",
       "       0., 0., 0., 0., 0., 0., 0., 0., 0., 0., 0., 0., 0., 0., 0., 0., 0.,\n",
       "       0., 0., 0., 0., 0., 0., 0., 0., 0., 0., 0., 0., 0., 0., 0., 0., 0.,\n",
       "       0., 0., 0., 0., 0., 0., 0., 0., 0., 0., 0., 0., 0., 0., 0., 0., 0.,\n",
       "       0., 0., 0., 0., 0., 0., 0., 0., 0., 0., 0., 0., 0., 0., 0., 0., 0.,\n",
       "       0., 0., 0., 0., 0., 0., 0., 0., 0., 0., 0., 0., 0., 0., 0., 0., 0.,\n",
       "       0., 0., 0., 0., 0., 0., 0., 0., 0., 0., 0., 0., 0., 0., 0., 0., 0.,\n",
       "       0., 0., 0., 0., 0., 0., 0., 0., 0., 0., 0., 0., 0., 0., 0., 0., 0.,\n",
       "       0., 0., 0., 0., 0., 0., 0., 0., 0., 0., 0., 0., 0., 0., 0., 0., 0.,\n",
       "       0., 0., 0., 0., 0., 0., 0., 0., 0., 0., 0., 0., 0., 0., 0., 0., 0.,\n",
       "       0., 0., 0., 0., 0., 0., 0., 0., 0., 0., 0., 0., 0., 0., 0., 0., 0.,\n",
       "       0., 0., 0., 0., 0., 0., 0., 0., 0., 0., 0., 0., 0., 0., 0., 0., 0.,\n",
       "       0., 0., 0., 0., 0., 0., 0., 0., 0., 0., 0., 0., 0., 0., 0., 0., 0.,\n",
       "       0., 0., 0., 0., 0., 0., 0., 0., 0., 0., 0., 0., 0., 0., 0., 0., 0.,\n",
       "       0., 0., 0., 0., 0., 0., 0., 0., 0., 0., 0., 0., 0., 0., 0., 0., 0.,\n",
       "       0., 0., 0., 0., 0., 0., 0., 0., 0., 0., 0., 0., 0., 0., 0., 0., 0.,\n",
       "       0., 0., 0., 0., 0., 0., 0., 0., 0., 0., 0., 0., 0., 0., 0., 0., 0.,\n",
       "       0., 0., 0., 0., 0., 0., 0., 0., 0., 0., 0., 0., 0., 0., 0., 0., 0.,\n",
       "       0., 0., 0., 0., 0., 0., 0., 0., 0., 0., 0., 0., 0., 0., 0., 0., 0.,\n",
       "       0., 0., 0., 0., 0., 0., 0., 0., 0., 0., 0., 0., 0., 0., 0., 0., 0.,\n",
       "       0., 0., 0., 0., 0., 0., 0., 0., 0., 0., 0., 0., 0., 0., 0., 0., 0.,\n",
       "       0., 0., 0., 0., 0., 0., 0., 0., 0., 0., 0., 0., 0., 0., 0., 0., 0.,\n",
       "       0., 0., 0., 0., 0., 0., 0., 0., 0., 0., 0., 0., 0., 0., 0., 0., 0.,\n",
       "       0., 0., 0., 0., 0., 0., 0., 0., 0., 0., 0., 0., 0., 0., 0., 0., 0.,\n",
       "       0., 0., 0., 0., 0., 0., 0., 0., 0., 0., 0., 0., 0., 0., 0., 0., 0.,\n",
       "       0., 0., 0., 0., 0., 0., 0., 0., 0., 0., 0., 0., 0., 0., 0., 0., 0.,\n",
       "       0., 0., 0., 0., 0., 0., 0., 0., 0., 0., 0., 0., 0., 0., 0., 0., 0.,\n",
       "       0., 0., 0., 0., 0., 0., 0., 0., 0., 0., 0., 0., 0., 0., 0., 0., 0.,\n",
       "       0., 0., 0., 0., 0., 0., 0., 0., 0., 0., 0., 0., 0., 0., 0., 0., 0.,\n",
       "       0., 0., 0., 0., 0., 0., 0., 0., 0., 0., 0., 0., 0., 0., 0., 0., 0.,\n",
       "       0., 0., 0., 0., 0., 0., 0., 0., 0., 0., 0., 0., 0., 0., 0., 0., 0.,\n",
       "       0., 0., 0., 0., 0., 0., 0., 0., 0., 0., 0., 0., 0., 0., 0., 0., 0.,\n",
       "       0., 0., 0., 0., 0., 0., 0., 0., 0., 0., 0., 0., 0., 0., 0., 0., 0.,\n",
       "       0., 0., 0., 0., 0., 0., 0., 0., 0., 0., 0., 0., 0., 0., 0., 0., 0.,\n",
       "       0., 0., 0., 0., 0., 0., 0., 0., 0., 0., 0., 0., 0., 0., 0., 0., 0.,\n",
       "       0., 0., 0., 0., 0., 0., 0., 0., 0., 0., 0., 0., 0., 0., 0., 0., 0.,\n",
       "       0., 0., 0., 0., 0., 0., 0., 0., 0., 0., 0., 0., 0., 0., 0., 0., 0.,\n",
       "       0., 0., 0., 0., 0., 0., 0., 0., 0., 0., 0., 0., 0., 0., 0., 0., 0.,\n",
       "       0., 0., 0., 0., 0., 0., 0., 0., 0., 0., 0., 0., 0., 0., 0., 0., 1.,\n",
       "       1., 1., 1., 1., 1., 1., 1., 1., 1., 1., 1., 1., 1., 1., 1., 1., 1.,\n",
       "       1., 1., 1., 1., 1., 1., 1., 1., 1., 1., 1., 1., 1., 1., 1., 1., 1.,\n",
       "       1., 1., 1., 1., 1., 1., 1., 1., 1., 1., 1., 1., 1., 1., 1., 1., 1.,\n",
       "       1., 1., 1., 1., 1., 1., 1., 1., 1., 1., 1., 1., 1., 1., 1., 1., 1.,\n",
       "       1., 1., 1., 1., 1., 1., 1., 1., 1., 1., 1., 1., 1., 1., 1., 1., 1.,\n",
       "       1., 1., 1., 1., 1., 1., 1., 1., 1., 1., 1., 1., 1., 1.])"
      ]
     },
     "execution_count": 30,
     "metadata": {},
     "output_type": "execute_result"
    }
   ],
   "source": [
    "# Concatinating the Labes .i.e., y data\n",
    "y = np.concat((y_class_0,y_class_1),axis=0)\n",
    "y"
   ]
  },
  {
   "cell_type": "markdown",
   "id": "8ebcc301-0745-4a1f-9889-75841426b992",
   "metadata": {},
   "source": [
    "## 6 Now lets put the X and y in a data Frame \n"
   ]
  },
  {
   "cell_type": "code",
   "execution_count": 39,
   "id": "762b19cb-1211-411f-a6d1-4bc79f200214",
   "metadata": {},
   "outputs": [
    {
     "data": {
      "text/html": [
       "<div>\n",
       "<style scoped>\n",
       "    .dataframe tbody tr th:only-of-type {\n",
       "        vertical-align: middle;\n",
       "    }\n",
       "\n",
       "    .dataframe tbody tr th {\n",
       "        vertical-align: top;\n",
       "    }\n",
       "\n",
       "    .dataframe thead th {\n",
       "        text-align: right;\n",
       "    }\n",
       "</style>\n",
       "<table border=\"1\" class=\"dataframe\">\n",
       "  <thead>\n",
       "    <tr style=\"text-align: right;\">\n",
       "      <th></th>\n",
       "      <th>Feature_1</th>\n",
       "      <th>Feature_2</th>\n",
       "    </tr>\n",
       "  </thead>\n",
       "  <tbody>\n",
       "    <tr>\n",
       "      <th>0</th>\n",
       "      <td>0.779979</td>\n",
       "      <td>1.315707</td>\n",
       "    </tr>\n",
       "    <tr>\n",
       "      <th>1</th>\n",
       "      <td>-1.470588</td>\n",
       "      <td>-0.633643</td>\n",
       "    </tr>\n",
       "    <tr>\n",
       "      <th>2</th>\n",
       "      <td>1.042712</td>\n",
       "      <td>-0.865532</td>\n",
       "    </tr>\n",
       "    <tr>\n",
       "      <th>3</th>\n",
       "      <td>0.783511</td>\n",
       "      <td>-1.035547</td>\n",
       "    </tr>\n",
       "    <tr>\n",
       "      <th>4</th>\n",
       "      <td>0.383866</td>\n",
       "      <td>-0.490450</td>\n",
       "    </tr>\n",
       "    <tr>\n",
       "      <th>...</th>\n",
       "      <td>...</td>\n",
       "      <td>...</td>\n",
       "    </tr>\n",
       "    <tr>\n",
       "      <th>995</th>\n",
       "      <td>0.207317</td>\n",
       "      <td>-1.018159</td>\n",
       "    </tr>\n",
       "    <tr>\n",
       "      <th>996</th>\n",
       "      <td>0.589948</td>\n",
       "      <td>-0.355046</td>\n",
       "    </tr>\n",
       "    <tr>\n",
       "      <th>997</th>\n",
       "      <td>-0.595405</td>\n",
       "      <td>0.441505</td>\n",
       "    </tr>\n",
       "    <tr>\n",
       "      <th>998</th>\n",
       "      <td>-0.534926</td>\n",
       "      <td>-1.258980</td>\n",
       "    </tr>\n",
       "    <tr>\n",
       "      <th>999</th>\n",
       "      <td>-1.309601</td>\n",
       "      <td>-1.183143</td>\n",
       "    </tr>\n",
       "  </tbody>\n",
       "</table>\n",
       "<p>1000 rows × 2 columns</p>\n",
       "</div>"
      ],
      "text/plain": [
       "     Feature_1  Feature_2\n",
       "0     0.779979   1.315707\n",
       "1    -1.470588  -0.633643\n",
       "2     1.042712  -0.865532\n",
       "3     0.783511  -1.035547\n",
       "4     0.383866  -0.490450\n",
       "..         ...        ...\n",
       "995   0.207317  -1.018159\n",
       "996   0.589948  -0.355046\n",
       "997  -0.595405   0.441505\n",
       "998  -0.534926  -1.258980\n",
       "999  -1.309601  -1.183143\n",
       "\n",
       "[1000 rows x 2 columns]"
      ]
     },
     "execution_count": 39,
     "metadata": {},
     "output_type": "execute_result"
    }
   ],
   "source": [
    "# First including the X data into the data frame df\n",
    "df = pd.DataFrame(X, columns=[\"Feature_1\",\"Feature_2\"])\n",
    "df\n"
   ]
  },
  {
   "cell_type": "code",
   "execution_count": 45,
   "id": "6257f661-4702-4df0-8884-66ec723c210f",
   "metadata": {},
   "outputs": [
    {
     "name": "stdout",
     "output_type": "stream",
     "text": [
      "     Feature_1  Feature_2  Target\n",
      "0     0.779979   1.315707     0.0\n",
      "1    -1.470588  -0.633643     0.0\n",
      "2     1.042712  -0.865532     0.0\n",
      "3     0.783511  -1.035547     0.0\n",
      "4     0.383866  -0.490450     0.0\n",
      "..         ...        ...     ...\n",
      "995   0.207317  -1.018159     1.0\n",
      "996   0.589948  -0.355046     1.0\n",
      "997  -0.595405   0.441505     1.0\n",
      "998  -0.534926  -1.258980     1.0\n",
      "999  -1.309601  -1.183143     1.0\n",
      "\n",
      "[1000 rows x 3 columns]\n",
      "(1000, 3)\n"
     ]
    }
   ],
   "source": [
    "# Secondly adding the y data into the data frame df\n",
    "df[\"Target\"] = y\n",
    "print(df)\n",
    "print(df.shape)"
   ]
  },
  {
   "cell_type": "code",
   "execution_count": null,
   "id": "0ec63409-f2d7-4f96-947e-f1ca95fbffd2",
   "metadata": {},
   "outputs": [],
   "source": [
    "print()"
   ]
  },
  {
   "cell_type": "code",
   "execution_count": 49,
   "id": "e9c522e6-db91-4548-a5b1-bd1f800e0044",
   "metadata": {},
   "outputs": [
    {
     "data": {
      "image/png": "[encoded data removed]",
      "text/plain": [
       "<Figure size 800x600 with 1 Axes>"
      ]
     },
     "metadata": {},
     "output_type": "display_data"
    }
   ],
   "source": [
    "import matplotlib.pyplot as plt\n",
    "\n",
    "# Count the number of samples in each class\n",
    "class_counts = df['Target'].value_counts()\n",
    "\n",
    "# Create a bar plot\n",
    "plt.figure(figsize=(8, 6))\n",
    "plt.bar(class_counts.index, class_counts.values, color=['blue', 'red'])\n",
    "plt.xticks([0, 1], ['Class 0', 'Class 1'])  # Rename the x-axis labels\n",
    "plt.xlabel('Class')\n",
    "plt.ylabel('Number of Samples')\n",
    "plt.title('Class Distribution in Imbalanced Dataset')\n",
    "plt.show()\n"
   ]
  },
  {
   "cell_type": "code",
   "execution_count": null,
   "id": "f7903ced-9563-471a-a5fa-c0f087c562b1",
   "metadata": {},
   "outputs": [],
   "source": []
  }
 ],
 "metadata": {
  "kernelspec": {
   "display_name": "Python 3 (ipykernel)",
   "language": "python",
   "name": "python3"
  },
  "language_info": {
   "codemirror_mode": {
    "name": "ipython",
    "version": 3
   },
   "file_extension": ".py",
   "mimetype": "text/x-python",
   "name": "python",
   "nbconvert_exporter": "python",
   "pygments_lexer": "ipython3",
   "version": "3.13.0"
  }
 },
 "nbformat": 4,
 "nbformat_minor": 5
}
