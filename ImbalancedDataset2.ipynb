{
 "cells": [
  {
   "cell_type": "markdown",
   "id": "23c8df07-9662-40ec-b375-d2aeb3a0e87e",
   "metadata": {},
   "source": [
    "## Objective: \n",
    "#### Generate a straightforward, imbalanced binary classification dataset with two features, one of which is informative (correlated with the target variable) and the other redundant (correlated with the informative feature).\n",
    "\n"
   ]
  },
  {
   "cell_type": "markdown",
   "id": "5e1300b1-adeb-4385-8527-b6fc6e17af58",
   "metadata": {},
   "source": [
    "# Making Imbalancd Dataset with the help of make_classification module from Sci_kit Learn Library"
   ]
  },
  {
   "cell_type": "code",
   "execution_count": 26,
   "id": "0831c6d1-a9f5-44b6-a108-fe847d15bb78",
   "metadata": {},
   "outputs": [],
   "source": [
    "# Step1: Importing some important Libraries\n",
    "## Here we will import only Pandas Library for putting the data set into a dataframe \n",
    "## We dodnot need Numpy Library to be imported here as we happen to make data set directly using make classification module from SciKit learn Library "
   ]
  },
  {
   "cell_type": "code",
   "execution_count": 23,
   "id": "1809cfb3-e610-4076-995a-ec0794ed52c7",
   "metadata": {},
   "outputs": [],
   "source": [
    "import pandas as pd\n"
   ]
  },
  {
   "cell_type": "code",
   "execution_count": 25,
   "id": "2e4ee37d-4917-49ce-aad1-b12f5b931729",
   "metadata": {},
   "outputs": [],
   "source": [
    "# Step2 : Importing make_classification module from SciKit learn Library to Create a dataset\n",
    "## This data set should have following paramenters :-\n",
    "### Total Features = 2\n",
    "\n",
    "## Note:-\n",
    "### Toral Featues = Sum of (n_informative+n_redundant+n_repeated)\n",
    "\n",
    "\n",
    "### Total Informative  = 1 (Default), as we want any of the one feature of the two to be directly related to the target variable \n",
    "### Total redubdatnts = 1, This will make the other(Unrelate to target variable) feature fall into linear Relation with the target varibale \n",
    "### Total repeated Featutures = 0, we  need norepeated features as we donot want noise \n",
    "### Groups per class = 1, So that each class in the dataset will have single groupoing \n",
    "### Number of classes = 2, beacise we need target varibale in atleast two diffrent groups \n",
    "\n",
    "## Note :-\n",
    "### Number_class x Number_clusters_per_class <= Number of informatives\n",
    "\n"
   ]
  },
  {
   "cell_type": "code",
   "execution_count": 22,
   "id": "89e696ed-5672-432a-a206-379e1bf5810a",
   "metadata": {},
   "outputs": [
    {
     "data": {
      "text/plain": [
       "Target\n",
       "0    898\n",
       "1    102\n",
       "Name: count, dtype: int64"
      ]
     },
     "execution_count": 22,
     "metadata": {},
     "output_type": "execute_result"
    }
   ],
   "source": [
    "df[\"Target\"].value_counts()"
   ]
  },
  {
   "cell_type": "code",
   "execution_count": 21,
   "id": "dee84bbd-9f58-4346-9b56-7996e37c58e6",
   "metadata": {},
   "outputs": [
    {
     "name": "stdout",
     "output_type": "stream",
     "text": [
      "   Feature_1  Feature_2  Target\n",
      "0  -0.851389  -0.232311       0\n",
      "1   0.007426   0.002026       0\n",
      "2  -1.503424  -0.410225       0\n",
      "3  -1.648489  -0.449807       0\n",
      "4   0.638770   0.174295       1\n"
     ]
    }
   ],
   "source": [
    "from sklearn.datasets import make_classification\n",
    "\n",
    "# Creating the dataset\n",
    "X, y = make_classification(\n",
    "    n_samples=1000,         # Number of samples\n",
    "    n_features=2,           # Total number of features\n",
    "    n_informative=1,        # One feature is informative\n",
    "    n_redundant=1,          # One feature is redundant\n",
    "    n_repeated=0,           # No repeated features\n",
    "    n_classes=2,\n",
    "    n_clusters_per_class=1,            # Binary classification\n",
    "    random_state=42,        # For reproducibility\n",
    "    weights=[0.9,0.1]\n",
    ")\n",
    "\n",
    "# Creating a DataFrame to view the data\n",
    "df = pd.DataFrame(X, columns=['Feature_1', 'Feature_2'])\n",
    "df['Target'] = y\n",
    "print(df.head())"
   ]
  },
  {
   "cell_type": "code",
   "execution_count": 28,
   "id": "5738e4e4-b70d-4650-b277-8aaa34d3f23e",
   "metadata": {},
   "outputs": [
    {
     "data": {
      "image/png": "[encoded data removed]",
      "text/plain": [
       "<Figure size 800x500 with 1 Axes>"
      ]
     },
     "metadata": {},
     "output_type": "display_data"
    }
   ],
   "source": [
    "# Step 3 :  Plotting the bar graph for class distribution\n",
    "import matplotlib.pyplot as plt\n",
    "class_counts = df['Target'].value_counts()\n",
    "\n",
    "plt.figure(figsize=(8, 5))\n",
    "class_counts.plot(kind='bar', color=['blue', 'orange'])\n",
    "plt.title(\"Class Distribution in the Dataset\")\n",
    "plt.xlabel(\"Class\")\n",
    "plt.ylabel(\"Number of Samples\")\n",
    "plt.xticks([0, 1], labels=['Class 0', 'Class 1'])\n",
    "plt.show()"
   ]
  },
  {
   "cell_type": "markdown",
   "id": "422d8645-4489-4733-bba2-cd5a7986d410",
   "metadata": {},
   "source": [
    "## Refer to this code template to make data sets by punching in the required parameters"
   ]
  },
  {
   "cell_type": "code",
   "execution_count": 36,
   "id": "c4804056-ee8e-45a4-93df-0ce1d2dad00d",
   "metadata": {},
   "outputs": [
    {
     "name": "stdin",
     "output_type": "stream",
     "text": [
      "Enter number of samples (e.g., 1000):  1000\n",
      "Enter total number of features (e.g., 2):  2\n",
      "Enter number of informative features (e.g., 1):  1\n",
      "Enter number of redundant features (e.g., 1):  1\n",
      "Enter number of repeated features (e.g., 0):  0\n",
      "Enter number of classes (e.g., 2):  2\n",
      "Enter number of clusters per class (e.g., 1):  1\n",
      "Enter weight for class 0 (e.g., 0.9):  0.9\n",
      "Enter weight for class 1 (e.g., 0.1):  0.1\n"
     ]
    },
    {
     "name": "stdout",
     "output_type": "stream",
     "text": [
      "\n",
      "Dataset created successfully!\n",
      "X (Features):\n",
      " [[-0.85138946 -0.23231055]\n",
      " [ 0.00742617  0.00202631]\n",
      " [-1.5034238  -0.41022497]\n",
      " [-1.64848859 -0.44980742]\n",
      " [ 0.63877018  0.17429515]]\n",
      "\n",
      "y (Target):\n",
      " [0 0 0 0 1]\n"
     ]
    }
   ],
   "source": [
    "from sklearn.datasets import make_classification\n",
    "\n",
    "# Function to create dataset with user input and validation\n",
    "def create_dataset():\n",
    "    # Taking user input for dataset parameters\n",
    "    try:\n",
    "        n_samples = int(input(\"Enter number of samples (e.g., 1000): \"))\n",
    "        n_features = int(input(\"Enter total number of features (e.g., 2): \"))\n",
    "        n_informative = int(input(\"Enter number of informative features (e.g., 1): \"))\n",
    "        n_redundant = int(input(\"Enter number of redundant features (e.g., 1): \"))\n",
    "        n_repeated = int(input(\"Enter number of repeated features (e.g., 0): \"))\n",
    "        n_classes = int(input(\"Enter number of classes (e.g., 2): \"))\n",
    "        n_clusters_per_class = int(input(\"Enter number of clusters per class (e.g., 1): \"))\n",
    "        weight_0 = float(input(\"Enter weight for class 0 (e.g., 0.9): \"))\n",
    "        weight_1 = float(input(\"Enter weight for class 1 (e.g., 0.1): \"))\n",
    "\n",
    "        # Validate that total features = sum of informative + redundant + repeated\n",
    "        if n_informative + n_redundant + n_repeated != n_features:\n",
    "            raise ValueError(\"Error: The total number of features (n_features) must be equal to the sum of n_informative, n_redundant, and n_repeated.\")\n",
    "\n",
    "        # Creating the dataset with user inputs\n",
    "        X, y = make_classification(\n",
    "            n_samples=n_samples,        \n",
    "            n_features=n_features,      \n",
    "            n_informative=n_informative,\n",
    "            n_redundant=n_redundant,    \n",
    "            n_repeated=n_repeated,     \n",
    "            n_classes=n_classes,       \n",
    "            n_clusters_per_class=n_clusters_per_class,\n",
    "            weights=[weight_0, weight_1],\n",
    "            random_state=42\n",
    "        )\n",
    "\n",
    "        # Returning the dataset\n",
    "        return X, y\n",
    "    \n",
    "    except ValueError as ve:\n",
    "        print(ve)\n",
    "        return None, None\n",
    "\n",
    "# Call the function to create dataset\n",
    "X, y = create_dataset()\n",
    "\n",
    "# Displaying the dataset if created successfully\n",
    "if X is not None and y is not None:\n",
    "    print(\"\\nDataset created successfully!\")\n",
    "    print(\"X (Features):\\n\", X[:5])  # Displaying first 5 rows of features\n",
    "    print(\"\\ny (Target):\\n\", y[:5])  # Displaying first 5 target values\n"
   ]
  },
  {
   "cell_type": "code",
   "execution_count": 37,
   "id": "7283fec0-ca68-42d1-a5ce-764898c9f20b",
   "metadata": {},
   "outputs": [
    {
     "name": "stdout",
     "output_type": "stream",
     "text": [
      "   Feature_1  Feature_2  Target\n",
      "0  -0.851389  -0.232311       0\n",
      "1   0.007426   0.002026       0\n",
      "2  -1.503424  -0.410225       0\n",
      "3  -1.648489  -0.449807       0\n",
      "4   0.638770   0.174295       1\n",
      "Target\n",
      "0    898\n",
      "1    102\n",
      "Name: count, dtype: int64\n"
     ]
    }
   ],
   "source": [
    "# Creating a DataFrame to view the data\n",
    "df = pd.DataFrame(X, columns=['Feature_1', 'Feature_2'])\n",
    "df['Target'] = y\n",
    "print(df.head())\n",
    "print(df[\"Target\"].value_counts())"
   ]
  },
  {
   "cell_type": "code",
   "execution_count": 38,
   "id": "f0dbad9b-bac2-4344-9c6b-4ce520cc5818",
   "metadata": {},
   "outputs": [
    {
     "data": {
      "image/png": "[encoded data removed]",
      "text/plain": [
       "<Figure size 800x500 with 1 Axes>"
      ]
     },
     "metadata": {},
     "output_type": "display_data"
    }
   ],
   "source": [
    "# Step 3 :  Plotting the bar graph for class distribution\n",
    "import matplotlib.pyplot as plt\n",
    "class_counts = df['Target'].value_counts()\n",
    "\n",
    "plt.figure(figsize=(8, 5))\n",
    "class_counts.plot(kind='bar', color=['blue', 'orange'])\n",
    "plt.title(\"Class Distribution in the Dataset\")\n",
    "plt.xlabel(\"Class\")\n",
    "plt.ylabel(\"Number of Samples\")\n",
    "plt.xticks([0, 1], labels=['Class 0', 'Class 1'])\n",
    "plt.show()"
   ]
  },
  {
   "cell_type": "code",
   "execution_count": null,
   "id": "4454007a-3480-448c-9f14-8221d44dce3e",
   "metadata": {},
   "outputs": [],
   "source": []
  }
 ],
 "metadata": {
  "kernelspec": {
   "display_name": "Python 3 (ipykernel)",
   "language": "python",
   "name": "python3"
  },
  "language_info": {
   "codemirror_mode": {
    "name": "ipython",
    "version": 3
   },
   "file_extension": ".py",
   "mimetype": "text/x-python",
   "name": "python",
   "nbconvert_exporter": "python",
   "pygments_lexer": "ipython3",
   "version": "3.13.0"
  }
 },
 "nbformat": 4,
 "nbformat_minor": 5
}
