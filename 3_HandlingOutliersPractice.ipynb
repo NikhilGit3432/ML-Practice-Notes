{
 "cells": [
  {
   "cell_type": "markdown",
   "id": "690b9195-2ce4-45bd-8f53-515e39966cf0",
   "metadata": {},
   "source": [
    "# Defintion of Outliers"
   ]
  },
  {
   "cell_type": "markdown",
   "id": "c4e96953-5980-4845-906f-2d5bdbbb2dcb",
   "metadata": {},
   "source": [
    "Outliers are data points that differ significantly from other observations in a dataset. They lie far from the majority of data values and can result from variability in the data, measurement errors, or unusual events. Outliers can influence statistical analyses and may need to be treated carefully based on the context."
   ]
  },
  {
   "cell_type": "markdown",
   "id": "7ab1286c-730c-47e6-8ed4-cbe3c33bd52b",
   "metadata": {},
   "source": [
    "### 3 Methods to handle the Outliers \n",
    "1) Drooping the outliers\n",
    "2) Replacing the Outliers with Mean / Median \n",
    "3) Capping the Outliers"
   ]
  },
  {
   "cell_type": "markdown",
   "id": "fa5a2b86-e788-4d85-a898-17f84d7dfe95",
   "metadata": {},
   "source": [
    "# 1. Dropping the outliers "
   ]
  },
  {
   "cell_type": "code",
   "execution_count": 5,
   "id": "36111df5-fb96-46c7-9192-493d26c8373e",
   "metadata": {},
   "outputs": [],
   "source": [
    "# Importing important Libraries\n",
    "import numpy as np\n",
    "import pandas as pd\n",
    "import matplotlib.pyplot as plt\n",
    "import seaborn as sns \n"
   ]
  },
  {
   "cell_type": "code",
   "execution_count": 6,
   "id": "1deed41b-03ad-4dec-a859-dd69d68413b2",
   "metadata": {},
   "outputs": [],
   "source": [
    "# Importing irirs dataset\n",
    "from sklearn.datasets import load_iris"
   ]
  },
  {
   "cell_type": "code",
   "execution_count": 7,
   "id": "994af004-1161-4f10-99a7-8c5a4d9f7753",
   "metadata": {},
   "outputs": [
    {
     "data": {
      "text/plain": [
       "{'data': array([[5.1, 3.5, 1.4, 0.2],\n",
       "        [4.9, 3. , 1.4, 0.2],\n",
       "        [4.7, 3.2, 1.3, 0.2],\n",
       "        [4.6, 3.1, 1.5, 0.2],\n",
       "        [5. , 3.6, 1.4, 0.2],\n",
       "        [5.4, 3.9, 1.7, 0.4],\n",
       "        [4.6, 3.4, 1.4, 0.3],\n",
       "        [5. , 3.4, 1.5, 0.2],\n",
       "        [4.4, 2.9, 1.4, 0.2],\n",
       "        [4.9, 3.1, 1.5, 0.1],\n",
       "        [5.4, 3.7, 1.5, 0.2],\n",
       "        [4.8, 3.4, 1.6, 0.2],\n",
       "        [4.8, 3. , 1.4, 0.1],\n",
       "        [4.3, 3. , 1.1, 0.1],\n",
       "        [5.8, 4. , 1.2, 0.2],\n",
       "        [5.7, 4.4, 1.5, 0.4],\n",
       "        [5.4, 3.9, 1.3, 0.4],\n",
       "        [5.1, 3.5, 1.4, 0.3],\n",
       "        [5.7, 3.8, 1.7, 0.3],\n",
       "        [5.1, 3.8, 1.5, 0.3],\n",
       "        [5.4, 3.4, 1.7, 0.2],\n",
       "        [5.1, 3.7, 1.5, 0.4],\n",
       "        [4.6, 3.6, 1. , 0.2],\n",
       "        [5.1, 3.3, 1.7, 0.5],\n",
       "        [4.8, 3.4, 1.9, 0.2],\n",
       "        [5. , 3. , 1.6, 0.2],\n",
       "        [5. , 3.4, 1.6, 0.4],\n",
       "        [5.2, 3.5, 1.5, 0.2],\n",
       "        [5.2, 3.4, 1.4, 0.2],\n",
       "        [4.7, 3.2, 1.6, 0.2],\n",
       "        [4.8, 3.1, 1.6, 0.2],\n",
       "        [5.4, 3.4, 1.5, 0.4],\n",
       "        [5.2, 4.1, 1.5, 0.1],\n",
       "        [5.5, 4.2, 1.4, 0.2],\n",
       "        [4.9, 3.1, 1.5, 0.2],\n",
       "        [5. , 3.2, 1.2, 0.2],\n",
       "        [5.5, 3.5, 1.3, 0.2],\n",
       "        [4.9, 3.6, 1.4, 0.1],\n",
       "        [4.4, 3. , 1.3, 0.2],\n",
       "        [5.1, 3.4, 1.5, 0.2],\n",
       "        [5. , 3.5, 1.3, 0.3],\n",
       "        [4.5, 2.3, 1.3, 0.3],\n",
       "        [4.4, 3.2, 1.3, 0.2],\n",
       "        [5. , 3.5, 1.6, 0.6],\n",
       "        [5.1, 3.8, 1.9, 0.4],\n",
       "        [4.8, 3. , 1.4, 0.3],\n",
       "        [5.1, 3.8, 1.6, 0.2],\n",
       "        [4.6, 3.2, 1.4, 0.2],\n",
       "        [5.3, 3.7, 1.5, 0.2],\n",
       "        [5. , 3.3, 1.4, 0.2],\n",
       "        [7. , 3.2, 4.7, 1.4],\n",
       "        [6.4, 3.2, 4.5, 1.5],\n",
       "        [6.9, 3.1, 4.9, 1.5],\n",
       "        [5.5, 2.3, 4. , 1.3],\n",
       "        [6.5, 2.8, 4.6, 1.5],\n",
       "        [5.7, 2.8, 4.5, 1.3],\n",
       "        [6.3, 3.3, 4.7, 1.6],\n",
       "        [4.9, 2.4, 3.3, 1. ],\n",
       "        [6.6, 2.9, 4.6, 1.3],\n",
       "        [5.2, 2.7, 3.9, 1.4],\n",
       "        [5. , 2. , 3.5, 1. ],\n",
       "        [5.9, 3. , 4.2, 1.5],\n",
       "        [6. , 2.2, 4. , 1. ],\n",
       "        [6.1, 2.9, 4.7, 1.4],\n",
       "        [5.6, 2.9, 3.6, 1.3],\n",
       "        [6.7, 3.1, 4.4, 1.4],\n",
       "        [5.6, 3. , 4.5, 1.5],\n",
       "        [5.8, 2.7, 4.1, 1. ],\n",
       "        [6.2, 2.2, 4.5, 1.5],\n",
       "        [5.6, 2.5, 3.9, 1.1],\n",
       "        [5.9, 3.2, 4.8, 1.8],\n",
       "        [6.1, 2.8, 4. , 1.3],\n",
       "        [6.3, 2.5, 4.9, 1.5],\n",
       "        [6.1, 2.8, 4.7, 1.2],\n",
       "        [6.4, 2.9, 4.3, 1.3],\n",
       "        [6.6, 3. , 4.4, 1.4],\n",
       "        [6.8, 2.8, 4.8, 1.4],\n",
       "        [6.7, 3. , 5. , 1.7],\n",
       "        [6. , 2.9, 4.5, 1.5],\n",
       "        [5.7, 2.6, 3.5, 1. ],\n",
       "        [5.5, 2.4, 3.8, 1.1],\n",
       "        [5.5, 2.4, 3.7, 1. ],\n",
       "        [5.8, 2.7, 3.9, 1.2],\n",
       "        [6. , 2.7, 5.1, 1.6],\n",
       "        [5.4, 3. , 4.5, 1.5],\n",
       "        [6. , 3.4, 4.5, 1.6],\n",
       "        [6.7, 3.1, 4.7, 1.5],\n",
       "        [6.3, 2.3, 4.4, 1.3],\n",
       "        [5.6, 3. , 4.1, 1.3],\n",
       "        [5.5, 2.5, 4. , 1.3],\n",
       "        [5.5, 2.6, 4.4, 1.2],\n",
       "        [6.1, 3. , 4.6, 1.4],\n",
       "        [5.8, 2.6, 4. , 1.2],\n",
       "        [5. , 2.3, 3.3, 1. ],\n",
       "        [5.6, 2.7, 4.2, 1.3],\n",
       "        [5.7, 3. , 4.2, 1.2],\n",
       "        [5.7, 2.9, 4.2, 1.3],\n",
       "        [6.2, 2.9, 4.3, 1.3],\n",
       "        [5.1, 2.5, 3. , 1.1],\n",
       "        [5.7, 2.8, 4.1, 1.3],\n",
       "        [6.3, 3.3, 6. , 2.5],\n",
       "        [5.8, 2.7, 5.1, 1.9],\n",
       "        [7.1, 3. , 5.9, 2.1],\n",
       "        [6.3, 2.9, 5.6, 1.8],\n",
       "        [6.5, 3. , 5.8, 2.2],\n",
       "        [7.6, 3. , 6.6, 2.1],\n",
       "        [4.9, 2.5, 4.5, 1.7],\n",
       "        [7.3, 2.9, 6.3, 1.8],\n",
       "        [6.7, 2.5, 5.8, 1.8],\n",
       "        [7.2, 3.6, 6.1, 2.5],\n",
       "        [6.5, 3.2, 5.1, 2. ],\n",
       "        [6.4, 2.7, 5.3, 1.9],\n",
       "        [6.8, 3. , 5.5, 2.1],\n",
       "        [5.7, 2.5, 5. , 2. ],\n",
       "        [5.8, 2.8, 5.1, 2.4],\n",
       "        [6.4, 3.2, 5.3, 2.3],\n",
       "        [6.5, 3. , 5.5, 1.8],\n",
       "        [7.7, 3.8, 6.7, 2.2],\n",
       "        [7.7, 2.6, 6.9, 2.3],\n",
       "        [6. , 2.2, 5. , 1.5],\n",
       "        [6.9, 3.2, 5.7, 2.3],\n",
       "        [5.6, 2.8, 4.9, 2. ],\n",
       "        [7.7, 2.8, 6.7, 2. ],\n",
       "        [6.3, 2.7, 4.9, 1.8],\n",
       "        [6.7, 3.3, 5.7, 2.1],\n",
       "        [7.2, 3.2, 6. , 1.8],\n",
       "        [6.2, 2.8, 4.8, 1.8],\n",
       "        [6.1, 3. , 4.9, 1.8],\n",
       "        [6.4, 2.8, 5.6, 2.1],\n",
       "        [7.2, 3. , 5.8, 1.6],\n",
       "        [7.4, 2.8, 6.1, 1.9],\n",
       "        [7.9, 3.8, 6.4, 2. ],\n",
       "        [6.4, 2.8, 5.6, 2.2],\n",
       "        [6.3, 2.8, 5.1, 1.5],\n",
       "        [6.1, 2.6, 5.6, 1.4],\n",
       "        [7.7, 3. , 6.1, 2.3],\n",
       "        [6.3, 3.4, 5.6, 2.4],\n",
       "        [6.4, 3.1, 5.5, 1.8],\n",
       "        [6. , 3. , 4.8, 1.8],\n",
       "        [6.9, 3.1, 5.4, 2.1],\n",
       "        [6.7, 3.1, 5.6, 2.4],\n",
       "        [6.9, 3.1, 5.1, 2.3],\n",
       "        [5.8, 2.7, 5.1, 1.9],\n",
       "        [6.8, 3.2, 5.9, 2.3],\n",
       "        [6.7, 3.3, 5.7, 2.5],\n",
       "        [6.7, 3. , 5.2, 2.3],\n",
       "        [6.3, 2.5, 5. , 1.9],\n",
       "        [6.5, 3. , 5.2, 2. ],\n",
       "        [6.2, 3.4, 5.4, 2.3],\n",
       "        [5.9, 3. , 5.1, 1.8]]),\n",
       " 'target': array([0, 0, 0, 0, 0, 0, 0, 0, 0, 0, 0, 0, 0, 0, 0, 0, 0, 0, 0, 0, 0, 0,\n",
       "        0, 0, 0, 0, 0, 0, 0, 0, 0, 0, 0, 0, 0, 0, 0, 0, 0, 0, 0, 0, 0, 0,\n",
       "        0, 0, 0, 0, 0, 0, 1, 1, 1, 1, 1, 1, 1, 1, 1, 1, 1, 1, 1, 1, 1, 1,\n",
       "        1, 1, 1, 1, 1, 1, 1, 1, 1, 1, 1, 1, 1, 1, 1, 1, 1, 1, 1, 1, 1, 1,\n",
       "        1, 1, 1, 1, 1, 1, 1, 1, 1, 1, 1, 1, 2, 2, 2, 2, 2, 2, 2, 2, 2, 2,\n",
       "        2, 2, 2, 2, 2, 2, 2, 2, 2, 2, 2, 2, 2, 2, 2, 2, 2, 2, 2, 2, 2, 2,\n",
       "        2, 2, 2, 2, 2, 2, 2, 2, 2, 2, 2, 2, 2, 2, 2, 2, 2, 2]),\n",
       " 'frame': None,\n",
       " 'target_names': array(['setosa', 'versicolor', 'virginica'], dtype='<U10'),\n",
       " 'DESCR': '.. _iris_dataset:\\n\\nIris plants dataset\\n--------------------\\n\\n**Data Set Characteristics:**\\n\\n:Number of Instances: 150 (50 in each of three classes)\\n:Number of Attributes: 4 numeric, predictive attributes and the class\\n:Attribute Information:\\n    - sepal length in cm\\n    - sepal width in cm\\n    - petal length in cm\\n    - petal width in cm\\n    - class:\\n            - Iris-Setosa\\n            - Iris-Versicolour\\n            - Iris-Virginica\\n\\n:Summary Statistics:\\n\\n============== ==== ==== ======= ===== ====================\\n                Min  Max   Mean    SD   Class Correlation\\n============== ==== ==== ======= ===== ====================\\nsepal length:   4.3  7.9   5.84   0.83    0.7826\\nsepal width:    2.0  4.4   3.05   0.43   -0.4194\\npetal length:   1.0  6.9   3.76   1.76    0.9490  (high!)\\npetal width:    0.1  2.5   1.20   0.76    0.9565  (high!)\\n============== ==== ==== ======= ===== ====================\\n\\n:Missing Attribute Values: None\\n:Class Distribution: 33.3% for each of 3 classes.\\n:Creator: R.A. Fisher\\n:Donor: Michael Marshall (MARSHALL%PLU@io.arc.nasa.gov)\\n:Date: July, 1988\\n\\nThe famous Iris database, first used by Sir R.A. Fisher. The dataset is taken\\nfrom Fisher\\'s paper. Note that it\\'s the same as in R, but not as in the UCI\\nMachine Learning Repository, which has two wrong data points.\\n\\nThis is perhaps the best known database to be found in the\\npattern recognition literature.  Fisher\\'s paper is a classic in the field and\\nis referenced frequently to this day.  (See Duda & Hart, for example.)  The\\ndata set contains 3 classes of 50 instances each, where each class refers to a\\ntype of iris plant.  One class is linearly separable from the other 2; the\\nlatter are NOT linearly separable from each other.\\n\\n|details-start|\\n**References**\\n|details-split|\\n\\n- Fisher, R.A. \"The use of multiple measurements in taxonomic problems\"\\n  Annual Eugenics, 7, Part II, 179-188 (1936); also in \"Contributions to\\n  Mathematical Statistics\" (John Wiley, NY, 1950).\\n- Duda, R.O., & Hart, P.E. (1973) Pattern Classification and Scene Analysis.\\n  (Q327.D83) John Wiley & Sons.  ISBN 0-471-22361-1.  See page 218.\\n- Dasarathy, B.V. (1980) \"Nosing Around the Neighborhood: A New System\\n  Structure and Classification Rule for Recognition in Partially Exposed\\n  Environments\".  IEEE Transactions on Pattern Analysis and Machine\\n  Intelligence, Vol. PAMI-2, No. 1, 67-71.\\n- Gates, G.W. (1972) \"The Reduced Nearest Neighbor Rule\".  IEEE Transactions\\n  on Information Theory, May 1972, 431-433.\\n- See also: 1988 MLC Proceedings, 54-64.  Cheeseman et al\"s AUTOCLASS II\\n  conceptual clustering system finds 3 classes in the data.\\n- Many, many more ...\\n\\n|details-end|\\n',\n",
       " 'feature_names': ['sepal length (cm)',\n",
       "  'sepal width (cm)',\n",
       "  'petal length (cm)',\n",
       "  'petal width (cm)'],\n",
       " 'filename': 'iris.csv',\n",
       " 'data_module': 'sklearn.datasets.data'}"
      ]
     },
     "execution_count": 7,
     "metadata": {},
     "output_type": "execute_result"
    }
   ],
   "source": [
    "iris = load_iris()\n",
    "iris"
   ]
  },
  {
   "cell_type": "code",
   "execution_count": 8,
   "id": "1feab688-2888-4c40-895a-91c6a4aa2518",
   "metadata": {},
   "outputs": [
    {
     "data": {
      "text/plain": [
       "dict_keys(['data', 'target', 'frame', 'target_names', 'DESCR', 'feature_names', 'filename', 'data_module'])"
      ]
     },
     "execution_count": 8,
     "metadata": {},
     "output_type": "execute_result"
    }
   ],
   "source": [
    "iris.keys()"
   ]
  },
  {
   "cell_type": "code",
   "execution_count": 9,
   "id": "24f2c72b-726e-4d26-80d4-2a6a1ccd54a7",
   "metadata": {},
   "outputs": [
    {
     "data": {
      "text/html": [
       "<div>\n",
       "<style scoped>\n",
       "    .dataframe tbody tr th:only-of-type {\n",
       "        vertical-align: middle;\n",
       "    }\n",
       "\n",
       "    .dataframe tbody tr th {\n",
       "        vertical-align: top;\n",
       "    }\n",
       "\n",
       "    .dataframe thead th {\n",
       "        text-align: right;\n",
       "    }\n",
       "</style>\n",
       "<table border=\"1\" class=\"dataframe\">\n",
       "  <thead>\n",
       "    <tr style=\"text-align: right;\">\n",
       "      <th></th>\n",
       "      <th>sepal length (cm)</th>\n",
       "      <th>sepal width (cm)</th>\n",
       "      <th>petal length (cm)</th>\n",
       "      <th>petal width (cm)</th>\n",
       "    </tr>\n",
       "  </thead>\n",
       "  <tbody>\n",
       "    <tr>\n",
       "      <th>0</th>\n",
       "      <td>5.1</td>\n",
       "      <td>3.5</td>\n",
       "      <td>1.4</td>\n",
       "      <td>0.2</td>\n",
       "    </tr>\n",
       "    <tr>\n",
       "      <th>1</th>\n",
       "      <td>4.9</td>\n",
       "      <td>3.0</td>\n",
       "      <td>1.4</td>\n",
       "      <td>0.2</td>\n",
       "    </tr>\n",
       "    <tr>\n",
       "      <th>2</th>\n",
       "      <td>4.7</td>\n",
       "      <td>3.2</td>\n",
       "      <td>1.3</td>\n",
       "      <td>0.2</td>\n",
       "    </tr>\n",
       "    <tr>\n",
       "      <th>3</th>\n",
       "      <td>4.6</td>\n",
       "      <td>3.1</td>\n",
       "      <td>1.5</td>\n",
       "      <td>0.2</td>\n",
       "    </tr>\n",
       "    <tr>\n",
       "      <th>4</th>\n",
       "      <td>5.0</td>\n",
       "      <td>3.6</td>\n",
       "      <td>1.4</td>\n",
       "      <td>0.2</td>\n",
       "    </tr>\n",
       "    <tr>\n",
       "      <th>...</th>\n",
       "      <td>...</td>\n",
       "      <td>...</td>\n",
       "      <td>...</td>\n",
       "      <td>...</td>\n",
       "    </tr>\n",
       "    <tr>\n",
       "      <th>145</th>\n",
       "      <td>6.7</td>\n",
       "      <td>3.0</td>\n",
       "      <td>5.2</td>\n",
       "      <td>2.3</td>\n",
       "    </tr>\n",
       "    <tr>\n",
       "      <th>146</th>\n",
       "      <td>6.3</td>\n",
       "      <td>2.5</td>\n",
       "      <td>5.0</td>\n",
       "      <td>1.9</td>\n",
       "    </tr>\n",
       "    <tr>\n",
       "      <th>147</th>\n",
       "      <td>6.5</td>\n",
       "      <td>3.0</td>\n",
       "      <td>5.2</td>\n",
       "      <td>2.0</td>\n",
       "    </tr>\n",
       "    <tr>\n",
       "      <th>148</th>\n",
       "      <td>6.2</td>\n",
       "      <td>3.4</td>\n",
       "      <td>5.4</td>\n",
       "      <td>2.3</td>\n",
       "    </tr>\n",
       "    <tr>\n",
       "      <th>149</th>\n",
       "      <td>5.9</td>\n",
       "      <td>3.0</td>\n",
       "      <td>5.1</td>\n",
       "      <td>1.8</td>\n",
       "    </tr>\n",
       "  </tbody>\n",
       "</table>\n",
       "<p>150 rows × 4 columns</p>\n",
       "</div>"
      ],
      "text/plain": [
       "     sepal length (cm)  sepal width (cm)  petal length (cm)  petal width (cm)\n",
       "0                  5.1               3.5                1.4               0.2\n",
       "1                  4.9               3.0                1.4               0.2\n",
       "2                  4.7               3.2                1.3               0.2\n",
       "3                  4.6               3.1                1.5               0.2\n",
       "4                  5.0               3.6                1.4               0.2\n",
       "..                 ...               ...                ...               ...\n",
       "145                6.7               3.0                5.2               2.3\n",
       "146                6.3               2.5                5.0               1.9\n",
       "147                6.5               3.0                5.2               2.0\n",
       "148                6.2               3.4                5.4               2.3\n",
       "149                5.9               3.0                5.1               1.8\n",
       "\n",
       "[150 rows x 4 columns]"
      ]
     },
     "execution_count": 9,
     "metadata": {},
     "output_type": "execute_result"
    }
   ],
   "source": [
    "# Put iris dataset into a dataframe\n",
    "df_iris = pd.DataFrame(iris.data, columns = iris.feature_names)\n",
    "df_iris"
   ]
  },
  {
   "cell_type": "code",
   "execution_count": 10,
   "id": "207beea9-d494-402f-8032-e36febdfefa6",
   "metadata": {},
   "outputs": [
    {
     "data": {
      "text/plain": [
       "array(['sepal length (cm)', 'sepal width (cm)', 'petal length (cm)',\n",
       "       'petal width (cm)'], dtype=object)"
      ]
     },
     "execution_count": 10,
     "metadata": {},
     "output_type": "execute_result"
    }
   ],
   "source": [
    "df_iris_columns = np.array(df_iris.keys())\n",
    "df_iris_columns"
   ]
  },
  {
   "cell_type": "code",
   "execution_count": 11,
   "id": "a697bd16-e7a4-40f0-8195-260c321a2363",
   "metadata": {},
   "outputs": [
    {
     "name": "stdout",
     "output_type": "stream",
     "text": [
      "sepal length (cm)\n",
      "sepal width (cm)\n",
      "petal length (cm)\n",
      "petal width (cm)\n"
     ]
    }
   ],
   "source": [
    "for x in df_iris_columns:\n",
    "    print(x)"
   ]
  },
  {
   "cell_type": "markdown",
   "id": "a7a8763a-5bb3-42e5-846e-a1a414773db6",
   "metadata": {},
   "source": [
    "# Find if there are outliers for each column \n"
   ]
  },
  {
   "cell_type": "code",
   "execution_count": 13,
   "id": "ed34e97d-5c13-4b8a-a5af-68b987a9cbd4",
   "metadata": {},
   "outputs": [
    {
     "name": "stdout",
     "output_type": "stream",
     "text": [
      "for sepal width (cm) q1 is 2.8\n",
      "for sepal width (cm) q2 is 3.0\n",
      "for sepal width (cm) q3 is 3.3 \n",
      "for sepal width (cm) iqr is 0.5\n",
      "for sepal width (cm) for sepal width (cm) Lower fence is 2.05\n",
      "for sepal width (cm) for sepal width (cm) Upper fence is 4.05\n",
      "4.4 is Higher Outlier \n",
      "4.1 is Higher Outlier \n",
      "4.2 is Higher Outlier \n",
      "2.0 is lower Outlier\n"
     ]
    },
    {
     "data": {
      "text/plain": [
       "[4.4, 4.1, 4.2, 2.0]"
      ]
     },
     "execution_count": 13,
     "metadata": {},
     "output_type": "execute_result"
    }
   ],
   "source": [
    "# Determining the Qunatie ranges for each of the column in the df_iris dataset\n",
    "def Quantiles(column_name):\n",
    "    quantiles = []\n",
    "    #defining the quantile ranges fro the column\n",
    "    q1 = df_iris[column_name].quantile(0.25)\n",
    "    quantiles.append(f\"q1 is {q1}\")\n",
    "    q2 = df_iris[column_name].quantile(0.5)\n",
    "    quantiles.append(f\"q2 is {q2}\")\n",
    "    q3 = df_iris[column_name].quantile(0.75)\n",
    "    quantiles.append(f\"q3 is {q3} \")\n",
    "    iqr = q3-q1\n",
    "    quantiles.append(f\"iqr is {iqr}\")\n",
    "    lw_f = q1-1.5*iqr\n",
    "    quantiles.append(f\"for {column_name} Lower fence is {lw_f}\")\n",
    "    up_f = q3+1.5*iqr\n",
    "    quantiles.append(f\"for {column_name} Upper fence is {up_f}\")\n",
    "    for x in quantiles:\n",
    "        print(f\"for {column_name} {x}\")\n",
    "\n",
    "    parameter = [q1,q2,q3,iqr,lw_f,up_f,]\n",
    "    return parameter\n",
    "\n",
    "\n",
    "def Outliers(column_name,lw_f,up_f):\n",
    "    outliers = []\n",
    "    data = df_iris[column_name]\n",
    "    for x in data:\n",
    "        if x < lw_f:\n",
    "            print(f\"{x} is lower Outlier\")\n",
    "            outliers.append(x)\n",
    "        elif x > up_f:\n",
    "            print(f\"{x} is Higher Outlier \")\n",
    "            outliers.append(x)\n",
    "    # print(column_name,outliers)\n",
    "    return outliers\n",
    "\n",
    " \n",
    "q1,q2,q3,iqr,lw_f,up_f = Quantiles(\"sepal width (cm)\")\n",
    "out = Outliers(\"sepal width (cm)\",lw_f,up_f)\n",
    "out\n",
    "# q1\n",
    "# iqr\n",
    "# # print(type(lw_f))\n",
    "# Outliers(\"sepal length (cm)\",lw_f,up_f)"
   ]
  },
  {
   "cell_type": "code",
   "execution_count": 14,
   "id": "c683ac5f-2e08-4c94-aaf2-5181c26ce69f",
   "metadata": {},
   "outputs": [
    {
     "data": {
      "image/png": "[encoded data removed]",
      "text/plain": [
       "<Figure size 800x600 with 1 Axes>"
      ]
     },
     "metadata": {},
     "output_type": "display_data"
    }
   ],
   "source": [
    "# So we conclude that the sepal width cm is the column with outliers \n",
    "# Construst a box plot to spot or visualize the outliers \n",
    "\n",
    "def plot_boxplot(column_name):\n",
    "    plt.figure(figsize=(8, 6))\n",
    "    sns.boxplot(x=df_iris[column_name], color=\"skyblue\")\n",
    "    plt.title(f\"Box Plot for {column_name}\")\n",
    "    plt.xlabel(column_name)\n",
    "    plt.show()\n",
    "\n",
    "# Call the function to plot the box plot\n",
    "plot_boxplot(\"sepal width (cm)\")"
   ]
  },
  {
   "cell_type": "markdown",
   "id": "4d5b425d-43c1-4847-8b74-9fbf4469312d",
   "metadata": {},
   "source": [
    "## Handling Outliers"
   ]
  },
  {
   "cell_type": "markdown",
   "id": "dd591424-4646-45e1-b1cd-a0844f9d2ed6",
   "metadata": {},
   "source": [
    "#### 1 Create a Function to drop outliers"
   ]
  },
  {
   "cell_type": "code",
   "execution_count": 17,
   "id": "6ecb742c-83c9-4695-bf28-63c066303f4a",
   "metadata": {},
   "outputs": [],
   "source": [
    "# Create a function to drop the outliers from the sepal width (one of the columns ) of df_iris dataset\n",
    "\n",
    "\n",
    "def DropOut(column_name, lw_f, up_f):\n",
    "    global df_iris  # To modify the global variable df_iris\n",
    "    # Identify indices of rows with outliers\n",
    "    outlier_indices = df_iris[(df_iris[column_name] < lw_f) | (df_iris[column_name] > up_f)].index    \n",
    "    # Drop the outlier rows\n",
    "    df_iris = df_iris.drop(outlier_indices)\n",
    "    return df_iris\n",
    "\n",
    "# Call the function\n",
    "df_iris = DropOut(\"sepal width (cm)\", lw_f, up_f)\n",
    "\n",
    "# Display the updated DataFrame\n",
    "# df_iris\n",
    "\n",
    "# Plot box plot for the sepal width column after dropping the outliers \n",
    "def plot_boxplot(column_name):\n",
    "    plt.figure(figsize=(8, 6))\n",
    "    sns.boxplot(x=df_iris[column_name], color=\"skyblue\")\n",
    "    plt.title(f\"Box Plot for {column_name}\")\n",
    "    plt.xlabel(column_name)\n",
    "    plt.show()\n",
    "\n",
    "# Call the function to plot the box plot\n",
    "plot_boxplot(\"sepal width (cm)\")"
   ]
  },
  {
   "cell_type": "markdown",
   "id": "bbcd7cf7-4187-4015-be65-15069da672fd",
   "metadata": {},
   "source": [
    "#### Replacing the outliers with mean / median values"
   ]
  },
  {
   "cell_type": "code",
   "execution_count": 19,
   "id": "4f9bcdc8-ecbe-4a8e-890c-90928ed319ea",
   "metadata": {},
   "outputs": [],
   "source": [
    "### Create a function to replace outliers with mean or median\n",
    "\n",
    "\n",
    "mod = []\n",
    "\n",
    "def Replace(column_name):\n",
    "    for x in df_iris[column_name]:\n",
    "        if x < lw_f:\n",
    "            x= df_iris[column_name].mean()\n",
    "            mod.append(x)\n",
    "        elif x > up_f:\n",
    "            x = df_iris[column_name].mean()\n",
    "            mod.append(x)\n",
    "        else:\n",
    "            mod.append(x)\n",
    "    df_iris[\"sepal width\"] = mod\n",
    "    return df_iris\n",
    "\n",
    "rp = Replace(\"sepal width (cm)\")\n",
    "\n",
    "\n",
    "\n",
    "# Plot a Box plot after replacing the outliers with the mean value \n",
    "def plot_boxplot(column_name):\n",
    "    plt.figure(figsize=(8, 6))\n",
    "    sns.boxplot(x=df_iris[column_name], color=\"skyblue\")\n",
    "    plt.title(f\"Box Plot for {column_name}\")\n",
    "    plt.xlabel(column_name)\n",
    "    plt.show()\n",
    "\n",
    "# Call the function to plot the box plot\n",
    "plot_boxplot(\"sepal width (cm)\") # This column has outliers in it \n",
    "plot_boxplot(\"sepal width\") # This columns has outliers replaced by mean value"
   ]
  },
  {
   "cell_type": "markdown",
   "id": "818ec7e6-bc3d-4acd-8a67-d680f0cd1c18",
   "metadata": {},
   "source": [
    "#### Create a function for Capping the Outliers"
   ]
  },
  {
   "cell_type": "code",
   "execution_count": 42,
   "id": "68b5a243-8d1e-4e4d-b150-e3123ce7feba",
   "metadata": {},
   "outputs": [],
   "source": [
    "cap = []\n",
    "def Capping(column_name):\n",
    "    for x in df_iris[column_name]:\n",
    "        if x < lw_f:\n",
    "            x= df_iris[column_name].quantile(0.05)\n",
    "            cap.append(x)\n",
    "        elif x > up_f:\n",
    "            x = df_iris[column_name].quantile(0.95)\n",
    "            cap.append(x)\n",
    "        else:\n",
    "            cap.append(x)\n",
    "    df_iris[\"sepal width capped\"] = cap\n",
    "    return df_iris\n",
    "\n",
    "capp = Capping(\"sepal width (cm)\")\n",
    "    \n",
    "# Plot a box plot after capping the outliers\n",
    "def plot_boxplot(column_name):\n",
    "    plt.figure(figsize=(8, 6))\n",
    "    sns.boxplot(x=df_iris[column_name], color=\"skyblue\")\n",
    "    plt.title(f\"Box Plot for {column_name}\")\n",
    "    plt.xlabel(column_name)\n",
    "    plt.show()\n",
    "\n",
    "# Call the function to plot the box plot\n",
    "plot_boxplot(\"sepal width (cm)\") # This column has outliers\n",
    "plot_boxplot(\"sepal width capped\") # This columns does not have the outliers"
   ]
  },
  {
   "cell_type": "code",
   "execution_count": 46,
   "id": "0df1d36f-9218-4fb9-8650-30a88766e7fb",
   "metadata": {},
   "outputs": [
    {
     "data": {
      "image/png": "[encoded data removed]",
      "text/plain": [
       "<Figure size 800x600 with 1 Axes>"
      ]
     },
     "metadata": {},
     "output_type": "display_data"
    },
    {
     "data": {
      "image/png": "[encoded data removed]",
      "text/plain": [
       "<Figure size 800x600 with 1 Axes>"
      ]
     },
     "metadata": {},
     "output_type": "display_data"
    }
   ],
   "source": [
    "\n"
   ]
  },
  {
   "cell_type": "code",
   "execution_count": null,
   "id": "0ff0f167-747c-4fbc-800f-c95efdc96ca0",
   "metadata": {},
   "outputs": [],
   "source": []
  }
 ],
 "metadata": {
  "kernelspec": {
   "display_name": "Python 3 (ipykernel)",
   "language": "python",
   "name": "python3"
  },
  "language_info": {
   "codemirror_mode": {
    "name": "ipython",
    "version": 3
   },
   "file_extension": ".py",
   "mimetype": "text/x-python",
   "name": "python",
   "nbconvert_exporter": "python",
   "pygments_lexer": "ipython3",
   "version": "3.12.4"
  }
 },
 "nbformat": 4,
 "nbformat_minor": 5
}
